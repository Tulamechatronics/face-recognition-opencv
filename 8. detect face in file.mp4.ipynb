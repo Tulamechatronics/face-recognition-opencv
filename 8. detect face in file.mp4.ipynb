{
 "cells": [
  {
   "cell_type": "code",
   "execution_count": 1,
   "metadata": {},
   "outputs": [],
   "source": [
    "import cv2\n",
    "faceCascade=cv2.CascadeClassifier(\"haarcascade_frontalface_default.xml\")\n",
    "\n",
    "def create_dataset(img,id,img_id):\n",
    "    cv2.imwrite(\"train1/pic.\"+str(id)+\".\"+str(img_id)+\".jpg\",img)\n",
    "    \n",
    "\n",
    "def draw_boundary(img,classifier,scaleFactor,minNeighbors,color,clf):\n",
    "    gray = cv2.cvtColor(img,cv2.COLOR_BGR2GRAY)\n",
    "    features=classifier.detectMultiScale(gray,scaleFactor,minNeighbors)\n",
    "    coords=[]\n",
    "    for (x,y,w,h) in features:\n",
    "        \n",
    "        cv2.rectangle(img,(x,y),(x+w,y+h),color,2)\n",
    "        id,_=clf.predict(gray[y:y+h,x:x+w]) #\n",
    "        if id==1:\n",
    "            cv2.putText(img,\"Chii Vitt\",(x,y-4),cv2.FONT_HERSHEY_SIMPLEX,0.8,color,2)\n",
    "        coords =[x,y,w,h]\n",
    "    return img , coords\n",
    "\n",
    "def detect(img,faceCascade,img_id,clf):\n",
    "    img,coords=draw_boundary(img,faceCascade,1.1,10,(0,0,255),clf)\n",
    "    id= 1\n",
    "    if len(coords) == 4:\n",
    "            id = 1\n",
    "            result = img[coords[1]:coords[1]+coords[3],coords[0]:coords[0]+coords[2]]\n",
    "            #create_dataset(result,id,img_id) \n",
    "  \n",
    "    return img\n",
    "img_id = 0\n",
    "cap = cv2.VideoCapture(\"Test3.mp4\")\n",
    "clf = cv2.face.LBPHFaceRecognizer_create()\n",
    "clf.read(\"classifier.xml\")\n",
    "\n",
    "while True:\n",
    "    ret,frame=cap.read()\n",
    "    frame=detect(frame,faceCascade,img_id,clf)\n",
    "    cv2.imshow(\"frame\",frame)\n",
    "    img_id+=1 #loop capture photos to train in dataset\n",
    "    if(cv2.waitKey(10)&0xFF ==ord(\"s\")):\n",
    "        break\n",
    "cap.release()\n",
    "cv2.destroyAllWindows()\n",
    "    "
   ]
  },
  {
   "cell_type": "code",
   "execution_count": null,
   "metadata": {},
   "outputs": [],
   "source": []
  },
  {
   "cell_type": "code",
   "execution_count": null,
   "metadata": {},
   "outputs": [],
   "source": []
  },
  {
   "cell_type": "code",
   "execution_count": null,
   "metadata": {},
   "outputs": [],
   "source": []
  }
 ],
 "metadata": {
  "kernelspec": {
   "display_name": "Python 3",
   "language": "python",
   "name": "python3"
  },
  "language_info": {
   "codemirror_mode": {
    "name": "ipython",
    "version": 3
   },
   "file_extension": ".py",
   "mimetype": "text/x-python",
   "name": "python",
   "nbconvert_exporter": "python",
   "pygments_lexer": "ipython3",
   "version": "3.7.3"
  }
 },
 "nbformat": 4,
 "nbformat_minor": 2
}
