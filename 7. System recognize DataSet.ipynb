{
 "cells": [
  {
   "cell_type": "code",
   "execution_count": 1,
   "metadata": {},
   "outputs": [],
   "source": [
    "import numpy as np \n",
    "from PIL import Image\n",
    "import os,cv2\n",
    "\n",
    "def train_classifier(train1_dir):\n",
    "    path = [os.path.join (train1_dir,f) for f in os.listdir(train1_dir)]\n",
    "    faces=[]\n",
    "    ids=[]\n",
    "    \n",
    "    for image in path :\n",
    "        img = Image.open(image).convert(\"L\")\n",
    "        imageNp = np.array(img,'uint8')\n",
    "        id = int(os.path.split(image)[1].split(\".\")[1])\n",
    "        #print((\"\"+str(id)))\n",
    "        faces.append(imageNp)\n",
    "        ids.append(id)\n",
    "    ids=np.array(ids)\n",
    "    \n",
    "    clf = cv2.face.LBPHFaceRecognizer_create()\n",
    "    clf.train(faces,ids)\n",
    "    clf.write(\"classifier.xml\")\n",
    "train_classifier(\"train1\")"
   ]
  },
  {
   "cell_type": "code",
   "execution_count": null,
   "metadata": {},
   "outputs": [],
   "source": []
  }
 ],
 "metadata": {
  "kernelspec": {
   "display_name": "Python 3",
   "language": "python",
   "name": "python3"
  },
  "language_info": {
   "codemirror_mode": {
    "name": "ipython",
    "version": 3
   },
   "file_extension": ".py",
   "mimetype": "text/x-python",
   "name": "python",
   "nbconvert_exporter": "python",
   "pygments_lexer": "ipython3",
   "version": "3.7.3"
  }
 },
 "nbformat": 4,
 "nbformat_minor": 2
}
