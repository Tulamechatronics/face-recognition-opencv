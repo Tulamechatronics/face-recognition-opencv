{
 "cells": [
  {
   "cell_type": "code",
   "execution_count": 4,
   "metadata": {},
   "outputs": [],
   "source": [
    "#   Draw----Line-----\n",
    "# import cv2\n",
    "# img = cv2.imread(\"namcha.jpg\")\n",
    "# img = cv2.line(img,(0,0),(255,255),(0,0,255),10)\n",
    "# cv2.imshow(\"Test\",img)\n",
    "# cv2.waitKey(0)\n",
    "# cv2.destroyAllWindows()   "
   ]
  },
  {
   "cell_type": "code",
   "execution_count": 7,
   "metadata": {},
   "outputs": [],
   "source": [
    "#   Draw ----rectangle----\n",
    "import cv2\n",
    "img = cv2.imread(\"grandmaster.jpg\")\n",
    "img = cv2.rectangle(img, (384,0), (510,128), (0,0,255), 10)\n",
    "cv2.imshow(\"Image\",img)\n",
    "cv2.waitKey(0)\n",
    "cv2.destroyAllWindows()"
   ]
  },
  {
   "cell_type": "code",
   "execution_count": null,
   "metadata": {},
   "outputs": [],
   "source": [
    "# Draw ---- circle----------------"
   ]
  }
 ],
 "metadata": {
  "kernelspec": {
   "display_name": "Python 3",
   "language": "python",
   "name": "python3"
  },
  "language_info": {
   "codemirror_mode": {
    "name": "ipython",
    "version": 3
   },
   "file_extension": ".py",
   "mimetype": "text/x-python",
   "name": "python",
   "nbconvert_exporter": "python",
   "pygments_lexer": "ipython3",
   "version": "3.7.3"
  }
 },
 "nbformat": 4,
 "nbformat_minor": 2
}
