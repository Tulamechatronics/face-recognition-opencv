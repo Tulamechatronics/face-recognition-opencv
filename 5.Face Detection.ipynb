{
 "cells": [
  {
   "cell_type": "code",
   "execution_count": 6,
   "metadata": {},
   "outputs": [],
   "source": [
    "import cv2\n",
    "faceCascade=cv2.CascadeClassifier(\"haarcascade_frontalface_default.xml\")\n",
    "\n",
    "def draw_boundary(img,classifier,scaleFactor,minNeighbors,color,text):\n",
    "    gray = cv2.cvtColor(img,cv2.COLOR_BGR2GRAY)\n",
    "    features=classifier.detectMultiScale(gray,scaleFactor,minNeighbors)\n",
    "    coords=[]\n",
    "    for (x,y,w,h) in features:\n",
    "        cv2.rectangle(img,(x,y),(x+w,y+h),color,2)\n",
    "        cv2.putText(img,text,(x,y-4),cv2.FONT_HERSHEY_SIMPLEX,0.8,color,3)\n",
    "    return img\n",
    "def detect(img,faceCascade):\n",
    "    img=draw_boundary(img,faceCascade,1.1,10,(0,0,255),\"Face\")\n",
    "    return img\n",
    "cap = cv2.VideoCapture(\"Test3.mp4\")\n",
    "while True:\n",
    "    ret,frame=cap.read()\n",
    "    frame=detect(frame,faceCascade)\n",
    "    cv2.imshow(\"frame\",frame)\n",
    "    if(cv2.waitKey(10)&0xFF ==ord(\"s\")):\n",
    "        break\n",
    "cap.release()\n",
    "cv2.destroyAllWindows()\n",
    "    \n"
   ]
  },
  {
   "cell_type": "code",
   "execution_count": null,
   "metadata": {},
   "outputs": [],
   "source": []
  }
 ],
 "metadata": {
  "kernelspec": {
   "display_name": "Python 3",
   "language": "python",
   "name": "python3"
  },
  "language_info": {
   "codemirror_mode": {
    "name": "ipython",
    "version": 3
   },
   "file_extension": ".py",
   "mimetype": "text/x-python",
   "name": "python",
   "nbconvert_exporter": "python",
   "pygments_lexer": "ipython3",
   "version": "3.7.3"
  }
 },
 "nbformat": 4,
 "nbformat_minor": 2
}
